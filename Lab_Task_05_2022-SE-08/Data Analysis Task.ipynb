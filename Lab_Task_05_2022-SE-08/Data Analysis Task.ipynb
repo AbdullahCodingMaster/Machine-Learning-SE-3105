{
 "cells": [
  {
   "cell_type": "markdown",
   "id": "bef0d5e2-86c5-49e2-b762-b1784d7dcfe2",
   "metadata": {},
   "source": [
    "# DATA ANALYSIS\n",
    "\n",
    "You and your classmates have collected data from various locations about houses, including their features (e.g., area, number of rooms, condition) and prices (house prices and rents). The objective is to help a fictional real estate firm analyze trends and patterns in the housing market to make decisions about property investment and pricing strategies.\n",
    "\n",
    "As the Data Scientist, your task is to analyze this data using measures of central tendency, dispersion, and correlation analysis. Based on your findings, you will provide insights that the firm can use to make informed decisions.\n",
    "\n",
    "#### Part 1: Central Tendency (Patterns in Data)\n",
    "1 - What is the typical house price and rent price in the dataset? Decide whether the mean, median, or mode is the most appropriate measure of   central tendency for these variables, considering the presence of any outliers.\n",
    "    \n",
    "2 - Compare the average number of rooms in houses across different locations. Which location tends to have the most spacious homes?\n",
    "    \n",
    "3- What is the most common condition of houses (e.g., Good, Fair, Excellent) in the data? Does the majority align with higher or lower prices?\n",
    "    \n",
    "#### Part 2: Dispersion (Variability in Data)\n",
    "1- Which location shows the greatest variability in house prices? Use measures such as range, interquartile range (IQR), or standard deviation to          support your conclusion.\n",
    "    \n",
    "2- Analyze the variability in rent prices across locations. Are rents more stable in some locations compared to others?\n",
    "    \n",
    "3- Compare the variability in house prices for houses with and without a garden. Do gardens significantly influence the consistency of pricing?\n",
    "    \n",
    "#### Part 3: Correlation (Relationships in Data)\n",
    "1- Is there a relationship between the size of a house (area) and its house price? Use correlation analysis to identify whether larger houses are  priced higher. \n",
    "    \n",
    "2-Investigate whether the number of rooms or the number of washrooms has a stronger correlation with rent prices.\n",
    "    \n",
    "3- Does the year of construction correlate with house prices? For example, are newer houses priced higher, or is the relationship weak?"
   ]
  },
  {
   "cell_type": "code",
   "execution_count": null,
   "id": "1f4d0c02-030b-4394-b620-3a1fef1ce4c9",
   "metadata": {},
   "outputs": [],
   "source": []
  }
 ],
 "metadata": {
  "kernelspec": {
   "display_name": "Python 3 (ipykernel)",
   "language": "python",
   "name": "python3"
  },
  "language_info": {
   "codemirror_mode": {
    "name": "ipython",
    "version": 3
   },
   "file_extension": ".py",
   "mimetype": "text/x-python",
   "name": "python",
   "nbconvert_exporter": "python",
   "pygments_lexer": "ipython3",
   "version": "3.12.7"
  }
 },
 "nbformat": 4,
 "nbformat_minor": 5
}

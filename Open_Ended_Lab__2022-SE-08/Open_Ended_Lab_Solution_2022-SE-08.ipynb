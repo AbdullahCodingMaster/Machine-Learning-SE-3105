{
 "cells": [
  {
   "cell_type": "code",
   "execution_count": null,
   "metadata": {
    "id": "r5rSelCMfE0o"
   },
   "outputs": [],
   "source": [
    "import pandas as pd\n",
    "import numpy as np\n",
    "import matplotlib.pyplot as plt\n",
    "import seaborn as sns\n",
    "from sklearn.model_selection import train_test_split, GridSearchCV\n",
    "from sklearn.preprocessing import StandardScaler\n",
    "from sklearn.linear_model import LogisticRegression\n",
    "from sklearn.neighbors import KNeighborsClassifier\n",
    "from sklearn.naive_bayes import GaussianNB\n",
    "from sklearn.neural_network import MLPClassifier\n",
    "from sklearn.impute import SimpleImputer\n",
    "from sklearn.pipeline import Pipeline\n",
    "from sklearn.feature_selection import SelectKBest, f_classif\n",
    "from sklearn.metrics import accuracy_score, classification_report, confusion_matrix\n",
    "import warnings\n",
    "\n",
    "warnings.filterwarnings('ignore')\n",
    "np.random.seed(42)"
   ]
  },
  {
   "cell_type": "code",
   "execution_count": null,
   "metadata": {
    "colab": {
     "base_uri": "https://localhost:8080/",
     "height": 206
    },
    "id": "tAlGCF5kfRzf",
    "outputId": "61e3fa84-76da-40ab-d94b-40ba2599b9fd"
   },
   "outputs": [
    {
     "name": "stdout",
     "output_type": "stream",
     "text": [
      "Combined Data Shape: (464, 785)\n",
      "NaNs in Combined Features: 177\n",
      "NaNs in Combined Labels: 2\n"
     ]
    }
   ],
   "source": [
    "# Load datasets\n",
    "train_df = pd.read_csv('mnist_train.csv')  \n",
    "test_df = pd.read_csv('mnist_test.csv') \n",
    "\n",
    "# Combine datasets\n",
    "combined_df = pd.concat([train_df, test_df], axis=0, ignore_index=True)\n",
    "print(\"Combined Data Shape:\", combined_df.shape)\n",
    "\n",
    "# Check for NaNs in features and labels\n",
    "print(\"NaNs in Combined Features:\", combined_df.drop('label', axis=1).isna().sum().sum())\n",
    "print(\"NaNs in Combined Labels:\", combined_df['label'].isna().sum())\n",
    "\n",
    "# Separate features and labels\n",
    "X_combined = combined_df.drop('label', axis=1)\n",
    "y_combined = combined_df['label']"
   ]
  },
  {
   "cell_type": "code",
   "execution_count": null,
   "metadata": {
    "id": "n1h1VzBwfX45"
   },
   "outputs": [
    {
     "name": "stdout",
     "output_type": "stream",
     "text": [
      "Shape after dropping NaN labels: (462, 785)\n",
      "NaNs in Processed Features: 0\n",
      "NaNs in Processed Labels: 0\n"
     ]
    }
   ],
   "source": [
    "# Impute NaNs in labels\n",
    "combined_df_clean = combined_df.dropna(subset=['label'])\n",
    "print(\"Shape after dropping NaN labels:\", combined_df_clean.shape)\n",
    "\n",
    "# Update X and y after cleaning\n",
    "X_combined = combined_df_clean.drop('label', axis=1)\n",
    "y_combined = combined_df_clean['label']\n",
    "\n",
    "# Preprocessing pipeline for features\n",
    "preprocessing_pipeline = Pipeline([\n",
    "    ('imputer', SimpleImputer(strategy='mean')),  # Replace NaNs in X with mean\n",
    "    ('scaler', StandardScaler())                  # Standardize features\n",
    "])\n",
    "\n",
    "# Apply preprocessing to features\n",
    "X_processed = preprocessing_pipeline.fit_transform(X_combined)\n",
    "\n",
    "# Normalize (already scaled, but explicit for clarity)\n",
    "X_processed = X_processed / 255.0\n",
    "\n",
    "# Verify no NaNs\n",
    "print(\"NaNs in Processed Features:\", np.isnan(X_processed).sum())\n",
    "print(\"NaNs in Processed Labels:\", np.isnan(y_combined).sum())"
   ]
  },
  {
   "cell_type": "code",
   "execution_count": null,
   "metadata": {
    "colab": {
     "base_uri": "https://localhost:8080/"
    },
    "id": "4UBjz_JafmUR",
    "outputId": "fc1cb1d4-08f0-4c00-f1e2-75551b1a1d59"
   },
   "outputs": [
    {
     "name": "stdout",
     "output_type": "stream",
     "text": [
      "Number of Features Selected: 200\n"
     ]
    }
   ],
   "source": [
    "# Feature selection\n",
    "selector = SelectKBest(score_func=f_classif, k=200)  # Select top 200 features\n",
    "X_selected = selector.fit_transform(X_processed, y_combined)\n",
    "\n",
    "# Get selected feature indices\n",
    "selected_features = selector.get_support()\n",
    "print(\"Number of Features Selected:\", X_selected.shape[1])"
   ]
  },
  {
   "cell_type": "code",
   "execution_count": null,
   "metadata": {
    "colab": {
     "base_uri": "https://localhost:8080/"
    },
    "id": "AVKMo0yxfnK_",
    "outputId": "e357456e-76f8-475f-a35b-aade0ba34042"
   },
   "outputs": [
    {
     "name": "stdout",
     "output_type": "stream",
     "text": [
      "Training Set Shape: (369, 200)\n",
      "Testing Set Shape: (93, 200)\n"
     ]
    }
   ],
   "source": [
    "# Split data (80% train, 20% test)\n",
    "X_train, X_test, y_train, y_test = train_test_split(\n",
    "    X_selected, y_combined, test_size=0.2, random_state=42, stratify=y_combined\n",
    ")\n",
    "\n",
    "print(\"Training Set Shape:\", X_train.shape)\n",
    "print(\"Testing Set Shape:\", X_test.shape)"
   ]
  },
  {
   "cell_type": "code",
   "execution_count": null,
   "metadata": {
    "id": "W94_aKXXf0sR"
   },
   "outputs": [
    {
     "name": "stdout",
     "output_type": "stream",
     "text": [
      "Logistic Regression Accuracy: 0.140\n",
      "              precision    recall  f1-score   support\n",
      "\n",
      "         0.0       0.00      0.00      0.00         9\n",
      "         1.0       0.14      1.00      0.25        13\n",
      "         2.0       0.00      0.00      0.00         9\n",
      "         3.0       0.00      0.00      0.00         9\n",
      "         4.0       0.00      0.00      0.00        11\n",
      "         5.0       0.00      0.00      0.00         8\n",
      "         6.0       0.00      0.00      0.00         8\n",
      "         7.0       0.00      0.00      0.00        10\n",
      "         8.0       0.00      0.00      0.00         6\n",
      "         9.0       0.00      0.00      0.00        10\n",
      "\n",
      "    accuracy                           0.14        93\n",
      "   macro avg       0.01      0.10      0.02        93\n",
      "weighted avg       0.02      0.14      0.03        93\n",
      "\n",
      "[[ 0  9  0  0  0  0  0  0  0  0]\n",
      " [ 0 13  0  0  0  0  0  0  0  0]\n",
      " [ 0  9  0  0  0  0  0  0  0  0]\n",
      " [ 0  9  0  0  0  0  0  0  0  0]\n",
      " [ 0 11  0  0  0  0  0  0  0  0]\n",
      " [ 0  8  0  0  0  0  0  0  0  0]\n",
      " [ 0  8  0  0  0  0  0  0  0  0]\n",
      " [ 0 10  0  0  0  0  0  0  0  0]\n",
      " [ 0  6  0  0  0  0  0  0  0  0]\n",
      " [ 0 10  0  0  0  0  0  0  0  0]]\n",
      "KNN Accuracy: 0.839\n",
      "              precision    recall  f1-score   support\n",
      "\n",
      "         0.0       0.82      1.00      0.90         9\n",
      "         1.0       0.81      1.00      0.90        13\n",
      "         2.0       1.00      0.67      0.80         9\n",
      "         3.0       0.64      1.00      0.78         9\n",
      "         4.0       0.80      0.73      0.76        11\n",
      "         5.0       1.00      0.50      0.67         8\n",
      "         6.0       1.00      0.88      0.93         8\n",
      "         7.0       0.83      1.00      0.91        10\n",
      "         8.0       1.00      0.67      0.80         6\n",
      "         9.0       0.89      0.80      0.84        10\n",
      "\n",
      "    accuracy                           0.84        93\n",
      "   macro avg       0.88      0.82      0.83        93\n",
      "weighted avg       0.87      0.84      0.83        93\n",
      "\n",
      "[[ 9  0  0  0  0  0  0  0  0  0]\n",
      " [ 0 13  0  0  0  0  0  0  0  0]\n",
      " [ 0  1  6  1  1  0  0  0  0  0]\n",
      " [ 0  0  0  9  0  0  0  0  0  0]\n",
      " [ 1  1  0  0  8  0  0  0  0  1]\n",
      " [ 0  0  0  4  0  4  0  0  0  0]\n",
      " [ 1  0  0  0  0  0  7  0  0  0]\n",
      " [ 0  0  0  0  0  0  0 10  0  0]\n",
      " [ 0  1  0  0  1  0  0  0  4  0]\n",
      " [ 0  0  0  0  0  0  0  2  0  8]]\n",
      "Naive Bayes Accuracy: 0.602\n",
      "              precision    recall  f1-score   support\n",
      "\n",
      "         0.0       0.80      0.89      0.84         9\n",
      "         1.0       0.85      0.85      0.85        13\n",
      "         2.0       0.67      0.67      0.67         9\n",
      "         3.0       1.00      0.22      0.36         9\n",
      "         4.0       0.55      0.55      0.55        11\n",
      "         5.0       0.67      0.50      0.57         8\n",
      "         6.0       0.57      0.50      0.53         8\n",
      "         7.0       1.00      0.40      0.57        10\n",
      "         8.0       0.31      0.83      0.45         6\n",
      "         9.0       0.40      0.60      0.48        10\n",
      "\n",
      "    accuracy                           0.60        93\n",
      "   macro avg       0.68      0.60      0.59        93\n",
      "weighted avg       0.70      0.60      0.60        93\n",
      "\n",
      "[[ 8  0  0  0  0  0  1  0  0  0]\n",
      " [ 0 11  0  0  0  1  0  0  1  0]\n",
      " [ 0  0  6  0  1  0  0  0  2  0]\n",
      " [ 1  1  1  2  0  0  1  0  3  0]\n",
      " [ 1  0  0  0  6  0  0  0  0  4]\n",
      " [ 0  0  0  0  0  4  1  0  2  1]\n",
      " [ 0  0  2  0  2  0  4  0  0  0]\n",
      " [ 0  0  0  0  0  0  0  4  2  4]\n",
      " [ 0  0  0  0  0  1  0  0  5  0]\n",
      " [ 0  1  0  0  2  0  0  0  1  6]]\n",
      "ANN Accuracy: 0.903\n",
      "              precision    recall  f1-score   support\n",
      "\n",
      "         0.0       0.80      0.89      0.84         9\n",
      "         1.0       1.00      1.00      1.00        13\n",
      "         2.0       1.00      0.89      0.94         9\n",
      "         3.0       0.90      1.00      0.95         9\n",
      "         4.0       0.77      0.91      0.83        11\n",
      "         5.0       0.88      0.88      0.88         8\n",
      "         6.0       0.86      0.75      0.80         8\n",
      "         7.0       0.91      1.00      0.95        10\n",
      "         8.0       1.00      1.00      1.00         6\n",
      "         9.0       1.00      0.70      0.82        10\n",
      "\n",
      "    accuracy                           0.90        93\n",
      "   macro avg       0.91      0.90      0.90        93\n",
      "weighted avg       0.91      0.90      0.90        93\n",
      "\n",
      "[[ 8  0  0  0  0  1  0  0  0  0]\n",
      " [ 0 13  0  0  0  0  0  0  0  0]\n",
      " [ 0  0  8  0  0  0  1  0  0  0]\n",
      " [ 0  0  0  9  0  0  0  0  0  0]\n",
      " [ 1  0  0  0 10  0  0  0  0  0]\n",
      " [ 0  0  0  1  0  7  0  0  0  0]\n",
      " [ 1  0  0  0  1  0  6  0  0  0]\n",
      " [ 0  0  0  0  0  0  0 10  0  0]\n",
      " [ 0  0  0  0  0  0  0  0  6  0]\n",
      " [ 0  0  0  0  2  0  0  1  0  7]]\n",
      "Tuned ANN Accuracy: 0.914\n",
      "Best Parameters: {'hidden_layer_sizes': (100,), 'learning_rate_init': 0.001}\n"
     ]
    }
   ],
   "source": [
    "# Define models\n",
    "models = {\n",
    "    'Logistic Regression': LogisticRegression(max_iter=1000),\n",
    "    'KNN': KNeighborsClassifier(n_neighbors=5),\n",
    "    'Naive Bayes': GaussianNB(),\n",
    "    'ANN': MLPClassifier(max_iter=1000)\n",
    "}\n",
    "\n",
    "# Train and evaluate models\n",
    "results = {}\n",
    "for name, model in models.items():\n",
    "    model.fit(X_train, y_train)\n",
    "    y_pred = model.predict(X_test)\n",
    "    accuracy = accuracy_score(y_test, y_pred)\n",
    "    results[name] = accuracy\n",
    "    print(f'{name} Accuracy: {accuracy:.3f}')\n",
    "    print(classification_report(y_test, y_pred))\n",
    "    print(confusion_matrix(y_test, y_pred))\n",
    "\n",
    "# Tune ANN\n",
    "param_grid = {\n",
    "    'hidden_layer_sizes': [(100,), (50, 50)],\n",
    "    'learning_rate_init': [0.001, 0.01]\n",
    "}\n",
    "grid_search = GridSearchCV(MLPClassifier(max_iter=1000), param_grid, cv=3, n_jobs=-1)\n",
    "grid_search.fit(X_train[:5000], y_train[:5000])  # Subset for speed; adjust as needed\n",
    "best_ann = grid_search.best_estimator_\n",
    "y_pred_tuned = best_ann.predict(X_test)\n",
    "results['Tuned ANN'] = accuracy_score(y_test, y_pred_tuned)\n",
    "print(f'Tuned ANN Accuracy: {results[\"Tuned ANN\"]:.3f}')\n",
    "print(f'Best Parameters: {grid_search.best_params_}')"
   ]
  },
  {
   "cell_type": "code",
   "execution_count": null,
   "metadata": {
    "colab": {
     "base_uri": "https://localhost:8080/",
     "height": 134
    },
    "id": "Ie2xffU_gAPP",
    "outputId": "4c7371b0-28c3-450b-c866-d422d2da5551"
   },
   "outputs": [
    {
     "data": {
      "image/png": "[encoded data removed]",
      "text/plain": [
       "<Figure size 1000x500 with 1 Axes>"
      ]
     },
     "metadata": {},
     "output_type": "display_data"
    }
   ],
   "source": [
    "plt.figure(figsize=(10, 5))\n",
    "plt.bar(results.keys(), results.values(), color=['blue', 'green', 'orange', 'purple', 'red'])\n",
    "plt.title('Model Accuracy Comparison')\n",
    "plt.ylabel('Accuracy')\n",
    "plt.ylim(0, 1)\n",
    "plt.xticks(rotation=45)\n",
    "plt.show()"
   ]
  }
 ],
 "metadata": {
  "colab": {
   "provenance": []
  },
  "kernelspec": {
   "display_name": "Python 3 (ipykernel)",
   "language": "python",
   "name": "python3"
  },
  "language_info": {
   "codemirror_mode": {
    "name": "ipython",
    "version": 3
   },
   "file_extension": ".py",
   "mimetype": "text/x-python",
   "name": "python",
   "nbconvert_exporter": "python",
   "pygments_lexer": "ipython3",
   "version": "3.12.7"
  }
 },
 "nbformat": 4,
 "nbformat_minor": 4
}
